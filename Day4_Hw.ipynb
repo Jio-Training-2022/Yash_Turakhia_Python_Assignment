{
 "cells": [
  {
   "cell_type": "markdown",
   "id": "550a5440",
   "metadata": {},
   "source": [
    "1. Loan EMI Calculator\n",
    "\n",
    "2. Build a banking system which has the following functionalities :: 2.1 Add account for a new user 2.2 Add money to the account 2.3 Withdraw money from the account 2.4 Display balance for a particular user\n",
    "\n",
    "3. Build a simple school which allows for :: 3.1 Adding a new student to a class with a Name & (unique) ID 3.2 Showing total number of students in a class 3.3 Removing the name of a student from a class 3.4 Promoting a student to the next grade"
   ]
  },
  {
   "cell_type": "code",
   "execution_count": null,
   "id": "91bb6ee5",
   "metadata": {},
   "outputs": [],
   "source": [
    "#Loan EMI Calculator using user input function\n",
    "\n",
    "p = float(input(\"Enter the loan amount: \"))\n",
    "R = float(input(\"Enter Interest rate: \"))\n",
    "n = int(input(\"Enter The loan tenure in moths:\"))"
   ]
  },
  {
   "cell_type": "code",
   "execution_count": 2,
   "id": "8b7d5166",
   "metadata": {},
   "outputs": [
    {
     "name": "stdout",
     "output_type": "stream",
     "text": [
      "Monthly EMI =  1.1610847921862375\n",
      "239.3301750623485\n"
     ]
    }
   ],
   "source": [
    "r = R/(12*100)\n",
    "emi = p * r * ((1+r)**n)/((1+r)**n - 1)\n",
    "print(\"Monthly EMI: \", emi)\n",
    "print(p+emi*n)"
   ]
  },
  {
   "cell_type": "code",
   "execution_count": 11,
   "id": "1295e5e4",
   "metadata": {},
   "outputs": [
    {
     "name": "stdout",
     "output_type": "stream",
     "text": [
      "Enter User name:yash\n",
      "Add Money:100\n",
      "Enter 1 to add more:0\n",
      "withdraw Money:10\n",
      "Enter 1 to withdraw more or 0:0\n"
     ]
    }
   ],
   "source": [
    "#Build a banking system which has the following functionalities :: \n",
    "#2.1 Add account for a new user \n",
    "#2.2 Add money to the account \n",
    "#2.3 Withdraw money from the account \n",
    "#2.4 Display balance for a particular user\n",
    "\n",
    "User_Name = input(\"Enter User name:\")\n",
    "Add_money = int(input(\"Add Money:\"))\n",
    "Y = int(input(\"Enter 1 to add more else press 0:\"))\n",
    "while Y == 1:\n",
    "    Add_money_temp = int(input(\"Add Money:\"))\n",
    "    Add_money = Add_money+Add_money_temp\n",
    "    Y = int(input(\"Enter 1 to add more else press 0:\"))\n",
    "\n",
    "withdraw_money = int(input(\"withdraw Money:\"))\n",
    "X = int(input(\"Enter 1 to withdraw more or 0:\"))\n",
    "while X == 1:\n",
    "    withdraw_money_temp = int(input(\"Add Money:\"))\n",
    "    withdraw_money = withdraw_money+withdraw_money_temp\n",
    "    X = int(input(\"Enter 1 to withdraw more else press 0:\"))\n",
    "    \n",
    "#Try using a function for add_money and withdraw money for more users"
   ]
  },
  {
   "cell_type": "code",
   "execution_count": 12,
   "id": "467319f8",
   "metadata": {},
   "outputs": [
    {
     "name": "stdout",
     "output_type": "stream",
     "text": [
      "100\n",
      "10\n",
      "Balance for Yash is: 90\n"
     ]
    }
   ],
   "source": [
    "print('Total Money addedAdd_money)\n",
    "print(withdraw_money)\n",
    "print(\"Balance for\",User_Name.capitalize(), \"is:\",Add_money-withdraw_money)"
   ]
  },
  {
   "cell_type": "code",
   "execution_count": null,
   "id": "14ec694d",
   "metadata": {},
   "outputs": [],
   "source": [
    "#Build a simple school which allows for :: \n",
    "#3.1 Adding a new student to a class with a Name & (unique) ID \n",
    "#3.2 Showing total number of students in a class \n",
    "#3.3 Removing the name of a student from a class \n",
    "#3.4 Promoting a student to the next grade\n",
    "\n"
   ]
  },
  {
   "cell_type": "code",
   "execution_count": null,
   "id": "74b16f5f",
   "metadata": {},
   "outputs": [],
   "source": []
  },
  {
   "cell_type": "code",
   "execution_count": null,
   "id": "427d72b4",
   "metadata": {},
   "outputs": [],
   "source": []
  },
  {
   "cell_type": "code",
   "execution_count": null,
   "id": "eb2a13ac",
   "metadata": {},
   "outputs": [],
   "source": []
  }
 ],
 "metadata": {
  "kernelspec": {
   "display_name": "Python 3 (ipykernel)",
   "language": "python",
   "name": "python3"
  },
  "language_info": {
   "codemirror_mode": {
    "name": "ipython",
    "version": 3
   },
   "file_extension": ".py",
   "mimetype": "text/x-python",
   "name": "python",
   "nbconvert_exporter": "python",
   "pygments_lexer": "ipython3",
   "version": "3.9.7"
  }
 },
 "nbformat": 4,
 "nbformat_minor": 5
}
