{
 "cells": [
  {
   "cell_type": "markdown",
   "id": "b178935e",
   "metadata": {},
   "source": [
    "## 50 Problems\n",
    "\n",
    "1.\tDays to go for a particular date in future.\n",
    "2.\tHours to go for a particular time.\n",
    "3.\tMarks of a student are given in a file, calculate the average marks.\n",
    "4.\tNames are given in a file, check whether a particular name is present.\n",
    "5.\tA dict contains events and corresponding dates, given a date, find out what events have occurred and what are still pending.\n",
    "6.\tGiven a file with numbers , calculate mean, median and mode.\n",
    "7.\tGiven a file with strings, calculate the permutations.\n",
    "8.\tTake user input and write it to a file.\n",
    "9.\tFetch the data from a url and save it to a file.\n",
    "10.\tFetch the data from a url and calculate the number of strings in it.\n",
    "11.\tCalculate the weight of the word banana. ( weight = sum of ascii values of all characters )\n",
    "12.\tCalculate how many times a string occurs in a given file.\n",
    "13.\tGiven a file create its zip archive.\n",
    "14.\tDelete a file.\n",
    "15.\tPrint all the files in a given directory.\n",
    "16.\tGiven a number in binary, print its hex , octa and binary representation\n",
    "17.\tSolve the fizz buzz problem\n",
    "18.\tEncode a string by adding 10 to all the ascii characters of that string and decode it back\n",
    "19.\tUse a function from another file\n",
    "20.\tWrite a class to represent a car\n",
    "\n",
    "21.\tWrite a class to represent a Laptop.\n",
    "22.\tWrite a class to represent an ATM machine.\n",
    "23.\tWrite a class to represent a school.\n",
    "24.\tWrite a class to represent a company.\n",
    "25.\tWrite a class to represent a Journey / Trip.\n",
    "26.\tPersists the data of a class in a table in a database. ( Postgres )\n",
    "27.\tuse dir function to print all the available functions in the following modules on standard output ::\n",
    "        i.\tdatetime.datetime, datetime.date, datetime.timedelta\n",
    "        ii.\tcalendar\n",
    "        iii.\tmath\n",
    "        iv.\tcmath\n",
    "        v.\tcollections\n",
    "        vi.\temail\n",
    "        vii.\tgc\n",
    "        viii.\thashlib\n",
    "        ix.\thtml\n",
    "        x.\thttp\n",
    "        xi.\tio\n",
    "        xii.\tjson\n",
    "        xiii.\tlogging\n",
    "        xiv.\tpdb\n",
    "        xv.\trandom\n",
    "        xvi.\trunpy\n",
    "        xvii.\tre\n",
    "        xviii.\tssl\n",
    "        xix.\tstatistics\n",
    "        xx.\tsubprocess\n",
    "        xxi.\tsys\n",
    "        xxii.\ttime\n",
    "        xxiii.\ttkinter\n",
    "        xxiv.\ttypes\n",
    "        xxv.\ttyping\n",
    "        xxvi.\tuuid\n",
    "        xxvii.\turllib\n",
    "28.\tGiven the names of countries - states in a json file, load the file , read the json objects and then print the cities against a country\n",
    "29.\tGiven the name strings in a file, read all the names and one-hot encod all the names and find the total sum\n",
    "30.\tGiven the name strings in a file, read all the names, convert them to corresponding ascii characters and calculate the sum\n",
    "31.\tGiven a user_input as a string, calculate its md5 hash\n",
    "32.\tgiven numbers ( in string format ) in a file, read them and create a numpy array\n",
    "33.\tGiven numbers ( in string format ) in a file, read them and create a pandas data frame object\n",
    "34.\tGiven number ( in string format ) in a file, read them and create a pandas series\n",
    "35.\tConstruct a 2x5 numpy matrix by taking all the numbers as input from user\n",
    "36.\tConvert the above numpy matrix to a pandas data frame\n",
    "37.\tSave the above data frame as a csv file\n",
    "38.\tSave the above data frame as an excel file\n",
    "39.\tReplicate the same data in the excel file across multiple sheets with different names\n",
    "40.\tCreate an excel sheet in google-sheets, read it via python and print the data on screen.\n",
    "41.\tprint a picture using matplotlib.\n",
    "42.\tDraw sin wave using matplotlib.\n",
    "43.\tDraw cos wave using matplotlib.\n",
    "44.\tDraw step function using matplotlib\n",
    "45.\tDraw fourier series using matplotlib\n",
    "46.\tFind all the urls in a data in a file\n",
    "47.\tFind all the headings in the data in a file\n",
    "48.\tRead all the files in a directory and print them.\n",
    "49.\tFind out the parent directory of a directory.\n",
    "50.\tFind the factorial of a number.\n",
    "\n"
   ]
  },
  {
   "cell_type": "markdown",
   "id": "79f49e0d",
   "metadata": {},
   "source": [
    "### 1. Days to go for a particular date in future."
   ]
  },
  {
   "cell_type": "code",
   "execution_count": 1,
   "id": "341c3057",
   "metadata": {},
   "outputs": [
    {
     "name": "stdout",
     "output_type": "stream",
     "text": [
      "Enter date in mmddyyyy 26012024\n"
     ]
    }
   ],
   "source": [
    "# 1. Days to go for a particular date in future.\n",
    "from datetime import *\n",
    "today = date.today()\n",
    "input_date = input(\"Enter date in mmddyyyy \")"
   ]
  },
  {
   "cell_type": "code",
   "execution_count": 2,
   "id": "e0ab459c",
   "metadata": {},
   "outputs": [
    {
     "name": "stdout",
     "output_type": "stream",
     "text": [
      "470 days left to your entered date\n"
     ]
    }
   ],
   "source": [
    "future = date(int(input_date[4:8]),int(input_date[2:4]),int(input_date[0:2]))\n",
    "total_days_passed = (future - today).days\n",
    "\n",
    "if total_days_passed < 0:\n",
    "    print(f\"The entered date is from past. {abs(total_days_passed)} days has passed\")\n",
    "else:\n",
    "    print(f\"{total_days_passed} days left to your entered date\")"
   ]
  },
  {
   "cell_type": "markdown",
   "id": "37f70845",
   "metadata": {},
   "source": [
    "## 2. Hours to go for a particular time."
   ]
  },
  {
   "cell_type": "code",
   "execution_count": 3,
   "id": "7b7314ad",
   "metadata": {},
   "outputs": [
    {
     "data": {
      "text/plain": [
       "datetime.datetime(2022, 10, 13, 21, 45, 6, 615179)"
      ]
     },
     "execution_count": 3,
     "metadata": {},
     "output_type": "execute_result"
    }
   ],
   "source": [
    "#2. Hours to go for a particular time.\n",
    "datetime.today()"
   ]
  },
  {
   "cell_type": "code",
   "execution_count": 4,
   "id": "26a854fb",
   "metadata": {},
   "outputs": [
    {
     "data": {
      "text/plain": [
       "11280"
      ]
     },
     "execution_count": 4,
     "metadata": {},
     "output_type": "execute_result"
    }
   ],
   "source": [
    "(total_days_passed)*24 #hours"
   ]
  },
  {
   "cell_type": "markdown",
   "id": "dc541dad",
   "metadata": {},
   "source": [
    "## 3. Marks of a student are given in a file, calculate the average marks."
   ]
  },
  {
   "cell_type": "code",
   "execution_count": 206,
   "id": "89ae14e6",
   "metadata": {},
   "outputs": [],
   "source": [
    "import pandas as pd\n",
    "df = pd.read_csv(\"student_marks.csv\") #the file has student_name, marks column"
   ]
  },
  {
   "cell_type": "code",
   "execution_count": 207,
   "id": "f1aedf0e",
   "metadata": {},
   "outputs": [
    {
     "data": {
      "text/plain": [
       "80.6"
      ]
     },
     "execution_count": 207,
     "metadata": {},
     "output_type": "execute_result"
    }
   ],
   "source": [
    "average_marks = sum(df['marks'])/len(df['marks'])\n",
    "average_marks"
   ]
  },
  {
   "cell_type": "markdown",
   "id": "1801fb11",
   "metadata": {},
   "source": [
    "## 4. Names are given in a file, check whether a particular name is present"
   ]
  },
  {
   "cell_type": "code",
   "execution_count": 208,
   "id": "72fd203e",
   "metadata": {},
   "outputs": [
    {
     "name": "stdout",
     "output_type": "stream",
     "text": [
      "Enter Name to check: alice\n"
     ]
    }
   ],
   "source": [
    "#4. Names are given in a file, check whether a particular name is present\n",
    "#using the same file used in above question\n",
    "\n",
    "input_name = input(\"Enter Name to check: \")"
   ]
  },
  {
   "cell_type": "code",
   "execution_count": 209,
   "id": "dcf505c0",
   "metadata": {},
   "outputs": [
    {
     "name": "stdout",
     "output_type": "stream",
     "text": [
      "Name is present\n"
     ]
    }
   ],
   "source": [
    "a=10\n",
    "if a:\n",
    "    for i in range(0,len(df['student_name'])): # try to add condition for name not present\n",
    "        if df['student_name'][i] == input_name:\n",
    "            print(\"Name is present\")\n",
    "else:\n",
    "    print('NA')"
   ]
  },
  {
   "cell_type": "markdown",
   "id": "178a725c",
   "metadata": {},
   "source": [
    "## 5. A dict contains events and corresponding dates, given a date, find out what events have occurred and what are still pending."
   ]
  },
  {
   "cell_type": "code",
   "execution_count": 181,
   "id": "dd506069",
   "metadata": {},
   "outputs": [],
   "source": [
    "dict1 = {'event1': '12-10-2022',\n",
    "        'event2': '13-10-2022',\n",
    "        'event3': '14-10-2022'}"
   ]
  },
  {
   "cell_type": "code",
   "execution_count": 182,
   "id": "12e48177",
   "metadata": {},
   "outputs": [
    {
     "name": "stdout",
     "output_type": "stream",
     "text": [
      "Enter date in dd-mm-yyyy: 13-10-2022\n"
     ]
    }
   ],
   "source": [
    "a = input(\"Enter date in dd-mm-yyyy: \")"
   ]
  },
  {
   "cell_type": "code",
   "execution_count": 183,
   "id": "5ef1071d",
   "metadata": {},
   "outputs": [
    {
     "data": {
      "text/plain": [
       "['13', '10', '2022']"
      ]
     },
     "execution_count": 183,
     "metadata": {},
     "output_type": "execute_result"
    }
   ],
   "source": [
    "a = a.split('-')\n",
    "a"
   ]
  },
  {
   "cell_type": "code",
   "execution_count": 184,
   "id": "854c3733",
   "metadata": {},
   "outputs": [
    {
     "data": {
      "text/plain": [
       "datetime.datetime(2022, 10, 13, 0, 0)"
      ]
     },
     "execution_count": 184,
     "metadata": {},
     "output_type": "execute_result"
    }
   ],
   "source": [
    "import datetime\n",
    "d = datetime.datetime(int(a[2]), int(a[1]), int(a[0]))\n",
    "d"
   ]
  },
  {
   "cell_type": "code",
   "execution_count": 188,
   "id": "2eeec1b6",
   "metadata": {},
   "outputs": [
    {
     "name": "stdout",
     "output_type": "stream",
     "text": [
      "12-10-2022\n",
      "13-10-2022\n",
      "14-10-2022\n"
     ]
    }
   ],
   "source": [
    "for i in dict1.keys():\n",
    "    print(dict1.get(i))"
   ]
  },
  {
   "cell_type": "code",
   "execution_count": 156,
   "id": "2602eb66",
   "metadata": {},
   "outputs": [
    {
     "data": {
      "text/plain": [
       "['12', '10', '2022']"
      ]
     },
     "execution_count": 156,
     "metadata": {},
     "output_type": "execute_result"
    }
   ],
   "source": [
    "# dict1.get('event1').split('-')"
   ]
  },
  {
   "cell_type": "code",
   "execution_count": 157,
   "id": "a711fc23",
   "metadata": {},
   "outputs": [
    {
     "name": "stdout",
     "output_type": "stream",
     "text": [
      "event is today event1\n",
      "event is today event2\n",
      "event is today event3\n"
     ]
    }
   ],
   "source": [
    "# for i in dict1.keys():\n",
    "#     input_date == dict1.get(i).split('-')\n",
    "#     print('event is today',i)"
   ]
  },
  {
   "cell_type": "code",
   "execution_count": 163,
   "id": "05598856",
   "metadata": {},
   "outputs": [
    {
     "data": {
      "text/plain": [
       "False"
      ]
     },
     "execution_count": 163,
     "metadata": {},
     "output_type": "execute_result"
    }
   ],
   "source": [
    "# dat = 'event3'\n",
    "# input_date == dict1.get(dat).split('-')"
   ]
  },
  {
   "cell_type": "markdown",
   "id": "b4b0930a",
   "metadata": {},
   "source": [
    "## 6.Given a file with numbers , calculate mean, median and mode."
   ]
  },
  {
   "cell_type": "code",
   "execution_count": 19,
   "id": "8f6ac17f",
   "metadata": {},
   "outputs": [],
   "source": [
    "import pandas as pd\n",
    "df_6 = pd.read_csv(\"question6.csv\")\n",
    "#df_6.dropna()"
   ]
  },
  {
   "cell_type": "code",
   "execution_count": 20,
   "id": "2d42bec4",
   "metadata": {},
   "outputs": [
    {
     "name": "stdout",
     "output_type": "stream",
     "text": [
      "mean 4.5\n",
      "median: 4.0\n",
      "mode 0    3\n",
      "dtype: int64\n"
     ]
    }
   ],
   "source": [
    "print('mean',df_6['numbers'].mean())\n",
    "print('median:',df_6['numbers'].median())\n",
    "print('mode',df_6['numbers'].mode())"
   ]
  },
  {
   "cell_type": "markdown",
   "id": "4ac02318",
   "metadata": {},
   "source": [
    "## 7. Given a file with strings, calculate the permutations."
   ]
  },
  {
   "cell_type": "code",
   "execution_count": 1,
   "id": "dbd76f75",
   "metadata": {},
   "outputs": [],
   "source": [
    "import pandas as pd\n",
    "file = open('question7.txt')"
   ]
  },
  {
   "cell_type": "code",
   "execution_count": 2,
   "id": "4b8cf3e7",
   "metadata": {},
   "outputs": [],
   "source": [
    "string = file.read()"
   ]
  },
  {
   "cell_type": "code",
   "execution_count": 3,
   "id": "16eb0276",
   "metadata": {},
   "outputs": [
    {
     "name": "stdout",
     "output_type": "stream",
     "text": [
      "Answer:  ['yash', 'yahs', 'ysah', 'ysha', 'yhas', 'yhsa', 'aysh', 'ayhs', 'asyh', 'ashy', 'ahys', 'ahsy', 'syah', 'syha', 'sayh', 'sahy', 'shya', 'shay', 'hyas', 'hysa', 'hays', 'hasy', 'hsya', 'hsay']\n"
     ]
    }
   ],
   "source": [
    "from itertools import permutations\n",
    " \n",
    "permutation = [''.join(p) for p in permutations(string)]\n",
    "\n",
    "print(\"Answer: \", str(permutation))"
   ]
  },
  {
   "cell_type": "markdown",
   "id": "8761ab12",
   "metadata": {},
   "source": [
    "## 8. Take user input and write it to a file"
   ]
  },
  {
   "cell_type": "code",
   "execution_count": 31,
   "id": "f35520d5",
   "metadata": {},
   "outputs": [
    {
     "name": "stdout",
     "output_type": "stream",
     "text": [
      "User inputThis is a user input\n"
     ]
    }
   ],
   "source": [
    "user_input = input(\"User input: \")"
   ]
  },
  {
   "cell_type": "code",
   "execution_count": 42,
   "id": "5e3172d9",
   "metadata": {},
   "outputs": [],
   "source": [
    "file = open(\"question8.txt\",'w')\n",
    "file.write(user_input)\n",
    "file.close()\n",
    "# with open('readme.txt', 'w') as f:\n",
    "#     f.write('Create a new text file!')"
   ]
  },
  {
   "cell_type": "code",
   "execution_count": 43,
   "id": "dc650aca",
   "metadata": {},
   "outputs": [
    {
     "data": {
      "text/plain": [
       "'This is a user input'"
      ]
     },
     "execution_count": 43,
     "metadata": {},
     "output_type": "execute_result"
    }
   ],
   "source": [
    "file = open(\"question8.txt\",'r')\n",
    "file.read()"
   ]
  },
  {
   "cell_type": "markdown",
   "id": "6b92c145",
   "metadata": {},
   "source": [
    "## 9. Fetch the data from a url and save it to a file."
   ]
  },
  {
   "cell_type": "code",
   "execution_count": 58,
   "id": "cd05e2f4",
   "metadata": {},
   "outputs": [],
   "source": [
    "import requests\n",
    "\n",
    "r = requests.get('https://www.python.org/')\n",
    "#print(r.text)"
   ]
  },
  {
   "cell_type": "code",
   "execution_count": 60,
   "id": "47ec1691",
   "metadata": {},
   "outputs": [],
   "source": [
    "with open('question9.txt', 'w') as f:\n",
    "    f.write(r.text)\n",
    "f.close()"
   ]
  },
  {
   "cell_type": "markdown",
   "id": "2216d4e9",
   "metadata": {},
   "source": [
    "## 10. Fetch the data from a url and calculate the number of strings in it."
   ]
  },
  {
   "cell_type": "code",
   "execution_count": 74,
   "id": "bad45951",
   "metadata": {},
   "outputs": [],
   "source": [
    "import requests\n",
    "\n",
    "r = requests.get('https://www.python.org/')"
   ]
  },
  {
   "cell_type": "code",
   "execution_count": 81,
   "id": "e276bee1",
   "metadata": {},
   "outputs": [
    {
     "data": {
      "text/plain": [
       "323"
      ]
     },
     "execution_count": 81,
     "metadata": {},
     "output_type": "execute_result"
    }
   ],
   "source": [
    "r.text.count('.') #need to check"
   ]
  },
  {
   "cell_type": "markdown",
   "id": "be301610",
   "metadata": {},
   "source": [
    "## 11. Calculate the weight of the word banana. ( weight = sum of ascii values of all characters )"
   ]
  },
  {
   "cell_type": "code",
   "execution_count": 13,
   "id": "b0e656f3",
   "metadata": {},
   "outputs": [],
   "source": [
    "string = 'banana'"
   ]
  },
  {
   "cell_type": "code",
   "execution_count": 14,
   "id": "7647c115",
   "metadata": {},
   "outputs": [
    {
     "name": "stdout",
     "output_type": "stream",
     "text": [
      "weight is: 609\n"
     ]
    }
   ],
   "source": [
    "asci = []\n",
    "for i in string:\n",
    "    asci.append(ord(i))\n",
    "print(\"weight is:\",sum(asci))"
   ]
  },
  {
   "cell_type": "code",
   "execution_count": 27,
   "id": "8a9540ff",
   "metadata": {},
   "outputs": [
    {
     "data": {
      "text/plain": [
       "609"
      ]
     },
     "execution_count": 27,
     "metadata": {},
     "output_type": "execute_result"
    }
   ],
   "source": [
    "## Second method\n",
    "lst=[]\n",
    "for i in string:\n",
    "    lst.append(i)\n",
    "\n",
    "weight = []\n",
    "for i in lst:\n",
    "    weight.append(ord(i))\n",
    "sum(weight)"
   ]
  },
  {
   "cell_type": "markdown",
   "id": "7334aa66",
   "metadata": {},
   "source": [
    "## 12. Calculate how many times a string occurs in a given file."
   ]
  },
  {
   "cell_type": "code",
   "execution_count": 2,
   "id": "3fb4b794",
   "metadata": {},
   "outputs": [
    {
     "name": "stdout",
     "output_type": "stream",
     "text": [
      "File Content:  ['this is a dummy file to test how many time a string ocuurs in a text file. this is a dummy. file to test. file to test.']\n",
      "Enter string to be searched: file to test\n",
      "\"file to test\" appears 3 times in the file\n"
     ]
    }
   ],
   "source": [
    "file1=open(\"question12.txt\")\n",
    "lines=[]\n",
    "for line in file1:\n",
    "    lines.append(line)\n",
    "print('File Content: ', lines)\n",
    "\n",
    "a = 0\n",
    "string = input('Enter string to be searched: ')\n",
    "for i in range(len(lines[0])-len(string)):\n",
    "    if(lines[0][i:i+len(string)] == string):\n",
    "        a += 1\n",
    "print('\\\"{}\\\" appears {} times in the file'.format(string,a))"
   ]
  },
  {
   "cell_type": "markdown",
   "id": "86112a2b",
   "metadata": {},
   "source": [
    "## 13. Given a file create its zip archive."
   ]
  },
  {
   "cell_type": "code",
   "execution_count": 6,
   "id": "87200201",
   "metadata": {},
   "outputs": [],
   "source": [
    "from zipfile import ZipFile\n",
    "# create a ZipFile object\n",
    "zip_file = ZipFile('sample.zip', 'w')\n",
    "zip_file.write('question13.txt')\n",
    "zip_file.close()"
   ]
  },
  {
   "cell_type": "markdown",
   "id": "720a7fcb",
   "metadata": {},
   "source": [
    "## 14. Delete a file."
   ]
  },
  {
   "cell_type": "code",
   "execution_count": 31,
   "id": "ea68e8ef",
   "metadata": {},
   "outputs": [],
   "source": [
    "# file1 = open('question14.txt','a')\n",
    "# file1.write('This is a dummy file')\n",
    "# file1.close()\n",
    "# file1 = open('question14.txt','r')\n",
    "# file1.read()\n",
    "# file1.close()\n",
    "\n",
    "#to delete file\n",
    "\n",
    "import os\n",
    "if os.path.exists(\"question14 - copy.txt\"):\n",
    "    os.remove(\"question14 - copy.txt\")\n",
    "else:\n",
    "    print(\"The file does not exist\")"
   ]
  },
  {
   "cell_type": "markdown",
   "id": "2a62e03c",
   "metadata": {},
   "source": [
    "## 15. Print all the files in a given directory."
   ]
  },
  {
   "cell_type": "code",
   "execution_count": 45,
   "id": "bdafc154",
   "metadata": {},
   "outputs": [
    {
     "data": {
      "text/plain": [
       "['.ipynb_checkpoints',\n",
       " '50 problems.ipynb',\n",
       " 'question12.txt',\n",
       " 'question6.csv',\n",
       " 'question7.txt',\n",
       " 'question8.txt',\n",
       " 'question9.txt',\n",
       " 'student_marks.csv']"
      ]
     },
     "execution_count": 45,
     "metadata": {},
     "output_type": "execute_result"
    }
   ],
   "source": [
    "import os\n",
    "os.listdir()"
   ]
  },
  {
   "cell_type": "markdown",
   "id": "f96b1f33",
   "metadata": {},
   "source": [
    "## 16.Given a number in binary, print its hex , octa and binary representation"
   ]
  },
  {
   "cell_type": "code",
   "execution_count": 32,
   "id": "4b9c36dc",
   "metadata": {},
   "outputs": [],
   "source": [
    "bin_numb = 1001001"
   ]
  },
  {
   "cell_type": "code",
   "execution_count": 38,
   "id": "ff7fc824",
   "metadata": {},
   "outputs": [
    {
     "name": "stdout",
     "output_type": "stream",
     "text": [
      "hex representation: 0xf4629\n",
      "oct representation:  0o3643051\n",
      "binary representation: 1001001\n"
     ]
    }
   ],
   "source": [
    "print('hex representation:', hex(bin_numb))\n",
    "print('oct representation: ', oct(bin_numb))\n",
    "print('binary representation:', bin_numb)"
   ]
  },
  {
   "cell_type": "code",
   "execution_count": 39,
   "id": "0e0141e6",
   "metadata": {},
   "outputs": [],
   "source": [
    "def binaryTodecimal(n):\n",
    "    decm = 0\n",
    "    power = 1\n",
    "    while n>0:\n",
    "        rem = n%10\n",
    "        n = n//10\n",
    "        decm += rem*power\n",
    "        power = power*2\n",
    "    return decm"
   ]
  },
  {
   "cell_type": "code",
   "execution_count": 42,
   "id": "f32e25b4",
   "metadata": {},
   "outputs": [
    {
     "data": {
      "text/plain": [
       "73"
      ]
     },
     "execution_count": 42,
     "metadata": {},
     "output_type": "execute_result"
    }
   ],
   "source": [
    "binaryTodecimal(bin_numb)"
   ]
  },
  {
   "cell_type": "markdown",
   "id": "d2605f3e",
   "metadata": {},
   "source": [
    "## 17. Solve the fizz buzz problem"
   ]
  },
  {
   "cell_type": "code",
   "execution_count": 86,
   "id": "3a580d03",
   "metadata": {},
   "outputs": [],
   "source": [
    "for i in range(1,101):\n",
    "    if i%3 == 0 and i%5==0:\n",
    "        print(\"fizzbuzz\")\n",
    "    elif i%5 == 0:\n",
    "        print(\"buzz\")\n",
    "    elif i%3 == 0:\n",
    "        print(\"fizz\")\n",
    "    else:\n",
    "        print(i)"
   ]
  },
  {
   "cell_type": "markdown",
   "id": "1d83c168",
   "metadata": {},
   "source": [
    "## 18. Encode a string by adding 10 to all the ascii characters of that string and decode it back"
   ]
  },
  {
   "cell_type": "code",
   "execution_count": 88,
   "id": "f604f394",
   "metadata": {},
   "outputs": [],
   "source": [
    "string = 'My Name is Yash Turakhia'"
   ]
  },
  {
   "cell_type": "code",
   "execution_count": 98,
   "id": "1ba10503",
   "metadata": {},
   "outputs": [
    {
     "name": "stdout",
     "output_type": "stream",
     "text": [
      "Encoded string: W*Xkwo*s}*ck}r*^|kursk\n"
     ]
    }
   ],
   "source": [
    "string_encode = []\n",
    "string_decode = []\n",
    "encode_string=''\n",
    "for i in string:\n",
    "    string_encode.append(ord(i)+10)\n",
    "    encode_string+=chr(ord(i)+10)\n",
    "#print('\\n',string_encode)\n",
    "print('Encoded string:',encode_string)"
   ]
  },
  {
   "cell_type": "code",
   "execution_count": 99,
   "id": "f9eb8169",
   "metadata": {},
   "outputs": [
    {
     "name": "stdout",
     "output_type": "stream",
     "text": [
      "Decoded string back: My Name is Yash Turakhia\n"
     ]
    }
   ],
   "source": [
    "decode_string = ''\n",
    "for j in encode_string:\n",
    "    string_decode.append(ord(j)-10)\n",
    "    decode_string+=chr(ord(j)-10)\n",
    "print('Decoded string back:',decode_string)"
   ]
  },
  {
   "cell_type": "markdown",
   "id": "ad27183e",
   "metadata": {},
   "source": [
    "## 19. Use a function from another file"
   ]
  },
  {
   "cell_type": "code",
   "execution_count": 57,
   "id": "45cade54",
   "metadata": {},
   "outputs": [
    {
     "data": {
      "text/plain": [
       "11"
      ]
     },
     "execution_count": 57,
     "metadata": {},
     "output_type": "execute_result"
    }
   ],
   "source": [
    "from question18 import *\n",
    "add(5,6)n"
   ]
  },
  {
   "cell_type": "markdown",
   "id": "bee9a955",
   "metadata": {},
   "source": [
    "## 20. Write a class to represent a car"
   ]
  },
  {
   "cell_type": "code",
   "execution_count": 197,
   "id": "910d1aec",
   "metadata": {},
   "outputs": [],
   "source": [
    "class Car:\n",
    "    def __init__(self, company, model, gear, CC, colour):\n",
    "        self.company = company\n",
    "        self.model = model\n",
    "        self.gear = gear\n",
    "        self.CC = CC\n",
    "        slef.colour = colour"
   ]
  },
  {
   "cell_type": "markdown",
   "id": "d17881a6",
   "metadata": {},
   "source": [
    "## 21. Write a class to represent a Laptop."
   ]
  },
  {
   "cell_type": "code",
   "execution_count": 198,
   "id": "d9625e68",
   "metadata": {},
   "outputs": [],
   "source": [
    "class laptop:\n",
    "        def __init__(self, company, model, ram, rom, storage, screen_size, colour, cost):\n",
    "            self.company = company\n",
    "            self.model = model \n",
    "            self.ram = ram\n",
    "            self.rom = rom\n",
    "            self.storage = storage\n",
    "            self.screen_size = screen_size\n",
    "            slef.colour = colour\n",
    "            self.cost = cost"
   ]
  },
  {
   "cell_type": "markdown",
   "id": "8707f135",
   "metadata": {},
   "source": [
    "## 22. Write a class to represent an ATM machine."
   ]
  },
  {
   "cell_type": "code",
   "execution_count": 199,
   "id": "e1d48fe9",
   "metadata": {},
   "outputs": [],
   "source": [
    "class atm:\n",
    "    pass"
   ]
  },
  {
   "cell_type": "markdown",
   "id": "beee666e",
   "metadata": {},
   "source": [
    "## 23. Write a class to represent a school.\n"
   ]
  },
  {
   "cell_type": "code",
   "execution_count": 200,
   "id": "91e15e56",
   "metadata": {},
   "outputs": [],
   "source": [
    "class school:\n",
    "    def __init__(self, name,standard, city, state, capacity):\n",
    "        self.name = name\n",
    "        self.standard = standard\n",
    "        self.city = city\n",
    "        self.state = state\n",
    "        self.capacity = capacity"
   ]
  },
  {
   "cell_type": "markdown",
   "id": "f216692d",
   "metadata": {},
   "source": [
    "## 24. Write a class to represent a company."
   ]
  },
  {
   "cell_type": "code",
   "execution_count": 195,
   "id": "c37823a6",
   "metadata": {},
   "outputs": [],
   "source": [
    "class company:\n",
    "    def __init__(self, name, country, employees, industry):\n",
    "        self.name = name\n",
    "        self.country = country\n",
    "        self.employees = employees\n",
    "        self.industry = industry"
   ]
  },
  {
   "cell_type": "markdown",
   "id": "8c8804e3",
   "metadata": {},
   "source": [
    "## 25. Write a class to represent a Journey / Trip."
   ]
  },
  {
   "cell_type": "code",
   "execution_count": 102,
   "id": "82d01606",
   "metadata": {},
   "outputs": [],
   "source": [
    "class journey:\n",
    "    def __init__(self, source, destination, date, days):\n",
    "        self.source = source\n",
    "        self.destination = destination\n",
    "        self.date = date\n",
    "        self.days = days"
   ]
  },
  {
   "cell_type": "code",
   "execution_count": null,
   "id": "dedc2f7c",
   "metadata": {},
   "outputs": [],
   "source": []
  },
  {
   "cell_type": "markdown",
   "id": "327a5d43",
   "metadata": {},
   "source": [
    "## 26. Persists the data of a class in a table in a database. ( Postgres )"
   ]
  },
  {
   "cell_type": "code",
   "execution_count": null,
   "id": "6b18ca49",
   "metadata": {},
   "outputs": [],
   "source": []
  },
  {
   "cell_type": "markdown",
   "id": "e367bb18",
   "metadata": {},
   "source": [
    "## 27. use dir function to print all the available functions in the following modules on standard output :: i. datetime.datetime, datetime.date, datetime.timedelta ii. calendar iii. math iv. cmath v. collections vi. email vii. gc viii. hashlib ix. html x. http xi. io xii. json xiii. logging xiv. pdb xv. random xvi. runpy xvii. re xviii. ssl xix. statistics xx. subprocess xxi. sys xxii. time xxiii. tkinter xxiv. types xxv. typing xxvi. uuid xxvii. urllib"
   ]
  },
  {
   "cell_type": "code",
   "execution_count": 125,
   "id": "1c3bb837",
   "metadata": {},
   "outputs": [],
   "source": [
    "#i. datetime.datetime, datetime.date, datetime.timedelta\n",
    "import datetime\n",
    "print(dir(datetime.datetime))\n",
    "print(dir(datetime.date))\n",
    "print(dir(datetime.timedelta))\n",
    "print(dir(datetime.datetime))\n",
    "print(dir(datetime.datetime))\n",
    "\n",
    "# ii calendar\n",
    "import calendar\n",
    "print(dir(calendar))\n",
    "\n",
    "#iii. math\n",
    "import math\n",
    "print(dir(math))\n",
    "\n",
    "##iv. cmath\n",
    "import cmath\n",
    "print(dir(cmath))\n",
    "\n",
    "# v. collections\n",
    "import collections\n",
    "print(dir(collections))\n",
    "\n",
    "# vi. email\n",
    "import email\n",
    "print(dir(email))\n",
    "\n",
    "# vii. gc \n",
    "import gc\n",
    "print(dir(gc))\n",
    "\n",
    "# viii. hashlib\n",
    "import hashlib\n",
    "print(dir(hashlib))\n",
    "\n",
    "# ix. html \n",
    "import html\n",
    "print(dir(html))\n",
    "\n",
    "# x. http \n",
    "import http\n",
    "print(dir(http))\n",
    "\n",
    "# xi. io \n",
    "import io\n",
    "print(dir(io))\n",
    "\n",
    "# xii. json \n",
    "import json\n",
    "print(dir(json))\n",
    "\n",
    "# xiii. logging\n",
    "import logging\n",
    "print(dir(logging))\n",
    "\n",
    "# xiv. pdb\n",
    "import pdb\n",
    "print(dir(pdb))\n",
    "\n",
    "# xv. random \n",
    "import random\n",
    "print(dir(random))\n",
    "\n",
    "# xvi. runpy \n",
    "import runpy\n",
    "print(dir(runpy))\n",
    "\n",
    "# xvii. re \n",
    "import re\n",
    "print(dir(re))\n",
    "\n",
    "# xviii. ssl \n",
    "import ssl\n",
    "print(dir(ssl))\n",
    "\n",
    "# xix. statistics \n",
    "import statistics\n",
    "print(dir(statistics))\n",
    "\n",
    "# xx. subprocess \n",
    "import subprocess\n",
    "print(dir(subprocess))\n",
    "\n",
    "# xxi. sys \n",
    "import sys\n",
    "print(dir(sys))\n",
    "\n",
    "# xxii. time \n",
    "import time\n",
    "print(dir(time))\n",
    "\n",
    "# xxiii. tkinter \n",
    "import tkinter\n",
    "print(dir(tkinter))\n",
    "\n",
    "# xxiv. types \n",
    "import types\n",
    "print(dir(types))\n",
    "\n",
    "# xxv. typing \n",
    "import typing\n",
    "print(dir(typing))\n",
    "\n",
    "# xxvi. uuid \n",
    "import uuid\n",
    "print(dir(uuid))\n",
    "\n",
    "# xxvii. urllib\n",
    "import urllib\n",
    "print(dir(urllib))"
   ]
  },
  {
   "cell_type": "code",
   "execution_count": null,
   "id": "84e5de76",
   "metadata": {},
   "outputs": [],
   "source": []
  },
  {
   "cell_type": "markdown",
   "id": "278fa1b0",
   "metadata": {},
   "source": [
    "## 28. Given the names of countries - states in a json file, load the file , read the json objects and then print the cities against a country"
   ]
  },
  {
   "cell_type": "code",
   "execution_count": 149,
   "id": "8dea259b",
   "metadata": {},
   "outputs": [],
   "source": [
    "import json\n",
    "file = open(\"question28.json\")\n",
    "data = json.load(file)"
   ]
  },
  {
   "cell_type": "code",
   "execution_count": 151,
   "id": "5632512f",
   "metadata": {},
   "outputs": [
    {
     "name": "stdout",
     "output_type": "stream",
     "text": [
      "Enter country Name: Afghanistan\n"
     ]
    }
   ],
   "source": [
    "country_name = input(\"Enter country Name: \")"
   ]
  },
  {
   "cell_type": "code",
   "execution_count": 168,
   "id": "43dfde5d",
   "metadata": {},
   "outputs": [],
   "source": [
    "#data.values()"
   ]
  },
  {
   "cell_type": "code",
   "execution_count": 169,
   "id": "a0c1674c",
   "metadata": {},
   "outputs": [],
   "source": [
    "# my_list = list(data.values())\n",
    "# my_list"
   ]
  },
  {
   "cell_type": "code",
   "execution_count": null,
   "id": "a17cc17a",
   "metadata": {},
   "outputs": [],
   "source": []
  },
  {
   "cell_type": "markdown",
   "id": "7c631703",
   "metadata": {},
   "source": [
    "## 29. Given the name strings in a file, read all the names and one-hot encod all the names and find the total sum"
   ]
  },
  {
   "cell_type": "code",
   "execution_count": 191,
   "id": "f06f69af",
   "metadata": {},
   "outputs": [],
   "source": [
    "file = open('question29_30.txt','r')"
   ]
  },
  {
   "cell_type": "code",
   "execution_count": null,
   "id": "95e9b755",
   "metadata": {},
   "outputs": [],
   "source": []
  },
  {
   "cell_type": "code",
   "execution_count": null,
   "id": "e50ab10f",
   "metadata": {},
   "outputs": [],
   "source": []
  },
  {
   "cell_type": "code",
   "execution_count": null,
   "id": "c810b8ab",
   "metadata": {},
   "outputs": [],
   "source": []
  },
  {
   "cell_type": "markdown",
   "id": "7d7e515f",
   "metadata": {},
   "source": [
    "## 30. Given the name strings in a file, read all the names, convert them to corresponding ascii characters and calculate the sum"
   ]
  },
  {
   "cell_type": "code",
   "execution_count": 192,
   "id": "9ed2f7c9",
   "metadata": {},
   "outputs": [],
   "source": [
    "file = open('question29_30.txt','r')"
   ]
  },
  {
   "cell_type": "code",
   "execution_count": 193,
   "id": "39abe27f",
   "metadata": {},
   "outputs": [],
   "source": [
    "data = file.read().split(' ')"
   ]
  },
  {
   "cell_type": "code",
   "execution_count": 230,
   "id": "9aa1c9de",
   "metadata": {},
   "outputs": [
    {
     "name": "stdout",
     "output_type": "stream",
     "text": [
      "The sum is: 4775\n"
     ]
    }
   ],
   "source": [
    "ans = []\n",
    "for i in data:\n",
    "    for j in i:\n",
    "        ans.append(ord(j))\n",
    "print(\"The sum is:\",sum(ans))"
   ]
  },
  {
   "cell_type": "markdown",
   "id": "2af7b69f",
   "metadata": {},
   "source": [
    "## 31. Given a user_input as a string, calculate its md5 hash"
   ]
  },
  {
   "cell_type": "code",
   "execution_count": 1,
   "id": "01a474b0",
   "metadata": {},
   "outputs": [],
   "source": [
    "string = 'This is a user input'"
   ]
  },
  {
   "cell_type": "code",
   "execution_count": 5,
   "id": "16374e4d",
   "metadata": {},
   "outputs": [],
   "source": [
    "import hashlib"
   ]
  },
  {
   "cell_type": "code",
   "execution_count": 10,
   "id": "7734fa7d",
   "metadata": {},
   "outputs": [
    {
     "name": "stdout",
     "output_type": "stream",
     "text": [
      "This is the result:  b'O\\x1b\\x82\\x84\\xdd~\\xec\\x10\\xc95\\xab\\x10\\xc2\\xb1r\\x95'\n"
     ]
    }
   ],
   "source": [
    "result = hashlib.md5(string.encode())\n",
    "print(\"This is the result: \",result.digest())"
   ]
  },
  {
   "cell_type": "markdown",
   "id": "9e805b26",
   "metadata": {},
   "source": [
    "## 32. given numbers ( in string format ) in a file, read them and create a numpy array"
   ]
  },
  {
   "cell_type": "code",
   "execution_count": 94,
   "id": "d603659d",
   "metadata": {},
   "outputs": [
    {
     "data": {
      "text/plain": [
       "array([[1, 2, 3, 4, 5, 6, 7, 8, 9],\n",
       "       [9, 8, 7, 6, 5, 4, 3, 2, 1]])"
      ]
     },
     "execution_count": 94,
     "metadata": {},
     "output_type": "execute_result"
    }
   ],
   "source": [
    "import numpy as np\n",
    "data = np.loadtxt(\"question32_33.txt\", dtype=int)\n",
    "data"
   ]
  },
  {
   "cell_type": "markdown",
   "id": "0dcee8db",
   "metadata": {},
   "source": [
    "## 33. Given numbers ( in string format ) in a file, read them and create a pandas data frame object"
   ]
  },
  {
   "cell_type": "code",
   "execution_count": 96,
   "id": "3256fb15",
   "metadata": {},
   "outputs": [
    {
     "data": {
      "text/html": [
       "<div>\n",
       "<style scoped>\n",
       "    .dataframe tbody tr th:only-of-type {\n",
       "        vertical-align: middle;\n",
       "    }\n",
       "\n",
       "    .dataframe tbody tr th {\n",
       "        vertical-align: top;\n",
       "    }\n",
       "\n",
       "    .dataframe thead th {\n",
       "        text-align: right;\n",
       "    }\n",
       "</style>\n",
       "<table border=\"1\" class=\"dataframe\">\n",
       "  <thead>\n",
       "    <tr style=\"text-align: right;\">\n",
       "      <th></th>\n",
       "      <th>1 2 3 4 5 6 7 8 9</th>\n",
       "    </tr>\n",
       "  </thead>\n",
       "  <tbody>\n",
       "    <tr>\n",
       "      <th>0</th>\n",
       "      <td>9 8 7 6 5 4 3 2 1</td>\n",
       "    </tr>\n",
       "  </tbody>\n",
       "</table>\n",
       "</div>"
      ],
      "text/plain": [
       "   1 2 3 4 5 6 7 8 9\n",
       "0  9 8 7 6 5 4 3 2 1"
      ]
     },
     "execution_count": 96,
     "metadata": {},
     "output_type": "execute_result"
    }
   ],
   "source": [
    "import pandas as pd\n",
    "data = pd.read_csv(\"question32_33.txt\")\n",
    "data"
   ]
  },
  {
   "cell_type": "markdown",
   "id": "a285acee",
   "metadata": {},
   "source": [
    "## 34. Given number ( in string format ) in a file, read them and create a pandas series"
   ]
  },
  {
   "cell_type": "code",
   "execution_count": 115,
   "id": "648454be",
   "metadata": {},
   "outputs": [
    {
     "name": "stdout",
     "output_type": "stream",
     "text": [
      "0    1\n",
      "1    2\n",
      "2    3\n",
      "3    4\n",
      "4    5\n",
      "5    6\n",
      "6    7\n",
      "7    8\n",
      "8    9\n",
      "dtype: object\n"
     ]
    },
    {
     "data": {
      "text/plain": [
       "pandas.core.series.Series"
      ]
     },
     "execution_count": 115,
     "metadata": {},
     "output_type": "execute_result"
    }
   ],
   "source": [
    "import pandas as pd\n",
    "file=open('question34.txt','r')\n",
    "data = file.read().split(' ') #storing data from file in a list\n",
    "data_series = pd.Series(data) #serialize in pd series\n",
    "print(data_series)\n",
    "type(data_series) # pandas data series"
   ]
  },
  {
   "cell_type": "markdown",
   "id": "8cde25a1",
   "metadata": {},
   "source": [
    "## 35. Construct a 2x5 numpy matrix by taking all the numbers as input from user"
   ]
  },
  {
   "cell_type": "code",
   "execution_count": 148,
   "id": "773202c3",
   "metadata": {},
   "outputs": [
    {
     "name": "stdout",
     "output_type": "stream",
     "text": [
      "Enter Number: 2\n",
      "Enter Number: 3\n",
      "Enter Number: 4\n",
      "Enter Number: 5\n",
      "Enter Number: 6\n",
      "Enter Number: 7\n",
      "Enter Number: 8\n",
      "Enter Number: 1\n",
      "Enter Number: 9\n",
      "Enter Number: 1\n"
     ]
    }
   ],
   "source": [
    "import numpy as np\n",
    "user_inp = []\n",
    "for i in range(numpy_array.size):\n",
    "    user_inp.append(int(input(\"Enter Number: \"))) # number are entered horizontally. Will add element added place"
   ]
  },
  {
   "cell_type": "code",
   "execution_count": 157,
   "id": "b10f8cee",
   "metadata": {},
   "outputs": [
    {
     "data": {
      "text/plain": [
       "array([[2, 3, 4, 5, 6],\n",
       "       [7, 8, 1, 9, 1]])"
      ]
     },
     "execution_count": 157,
     "metadata": {},
     "output_type": "execute_result"
    }
   ],
   "source": [
    "#numpy_array = np.zeros([2,5], dtype=int)\n",
    "numpy_array = np.array(user_inp)\n",
    "arr = numpy_array.reshape(2,5)\n",
    "arr"
   ]
  },
  {
   "cell_type": "markdown",
   "id": "5b69b9c1",
   "metadata": {},
   "source": [
    "## 36. Convert the above numpy matrix to a pandas data frame"
   ]
  },
  {
   "cell_type": "code",
   "execution_count": 160,
   "id": "5eb56da4",
   "metadata": {},
   "outputs": [
    {
     "data": {
      "text/html": [
       "<div>\n",
       "<style scoped>\n",
       "    .dataframe tbody tr th:only-of-type {\n",
       "        vertical-align: middle;\n",
       "    }\n",
       "\n",
       "    .dataframe tbody tr th {\n",
       "        vertical-align: top;\n",
       "    }\n",
       "\n",
       "    .dataframe thead th {\n",
       "        text-align: right;\n",
       "    }\n",
       "</style>\n",
       "<table border=\"1\" class=\"dataframe\">\n",
       "  <thead>\n",
       "    <tr style=\"text-align: right;\">\n",
       "      <th></th>\n",
       "      <th>0</th>\n",
       "      <th>1</th>\n",
       "      <th>2</th>\n",
       "      <th>3</th>\n",
       "      <th>4</th>\n",
       "    </tr>\n",
       "  </thead>\n",
       "  <tbody>\n",
       "    <tr>\n",
       "      <th>0</th>\n",
       "      <td>2</td>\n",
       "      <td>3</td>\n",
       "      <td>4</td>\n",
       "      <td>5</td>\n",
       "      <td>6</td>\n",
       "    </tr>\n",
       "    <tr>\n",
       "      <th>1</th>\n",
       "      <td>7</td>\n",
       "      <td>8</td>\n",
       "      <td>1</td>\n",
       "      <td>9</td>\n",
       "      <td>1</td>\n",
       "    </tr>\n",
       "  </tbody>\n",
       "</table>\n",
       "</div>"
      ],
      "text/plain": [
       "   0  1  2  3  4\n",
       "0  2  3  4  5  6\n",
       "1  7  8  1  9  1"
      ]
     },
     "execution_count": 160,
     "metadata": {},
     "output_type": "execute_result"
    }
   ],
   "source": [
    "import pandas as pd\n",
    "df = pd.DataFrame(arr)\n",
    "df"
   ]
  },
  {
   "cell_type": "markdown",
   "id": "d7e4b298",
   "metadata": {},
   "source": [
    "## 37. Save the above data frame as a csv file"
   ]
  },
  {
   "cell_type": "code",
   "execution_count": 166,
   "id": "3cb1b02b",
   "metadata": {},
   "outputs": [],
   "source": [
    "df.to_csv('df_csv.csv')"
   ]
  },
  {
   "cell_type": "markdown",
   "id": "43f6e89f",
   "metadata": {},
   "source": [
    "## 38. Save the above data frame as an excel file"
   ]
  },
  {
   "cell_type": "code",
   "execution_count": 167,
   "id": "72921855",
   "metadata": {},
   "outputs": [],
   "source": [
    "df.to_excel('df_excel.xlsx')"
   ]
  },
  {
   "cell_type": "markdown",
   "id": "91b1d26a",
   "metadata": {},
   "source": [
    "## 39. Replicate the same data in the excel file across multiple sheets with different names"
   ]
  },
  {
   "cell_type": "code",
   "execution_count": 210,
   "id": "7f467044",
   "metadata": {},
   "outputs": [],
   "source": [
    "with pd.ExcelWriter('question39.xlsx') as writer:  \n",
    "    df.to_excel(writer, sheet_name='Sheet_name_1')\n",
    "    df.to_excel(writer, sheet_name='Sheet_name_2')"
   ]
  },
  {
   "cell_type": "markdown",
   "id": "f21c60f8",
   "metadata": {},
   "source": [
    "## 40. Create an excel sheet in google-sheets, read it via python and print the data on screen."
   ]
  },
  {
   "cell_type": "code",
   "execution_count": null,
   "id": "f286b299",
   "metadata": {},
   "outputs": [],
   "source": []
  },
  {
   "cell_type": "markdown",
   "id": "bf0ec4a8",
   "metadata": {},
   "source": [
    "## 41. print a picture using matplotlib"
   ]
  },
  {
   "cell_type": "code",
   "execution_count": 175,
   "id": "024a2459",
   "metadata": {},
   "outputs": [
    {
     "data": {
      "text/plain": [
       "<matplotlib.image.AxesImage at 0x2295179c730>"
      ]
     },
     "execution_count": 175,
     "metadata": {},
     "output_type": "execute_result"
    },
    {
     "data": {
      "image/png": "[encoded data removed]",
      "text/plain": [
       "<Figure size 432x288 with 1 Axes>"
      ]
     },
     "metadata": {
      "needs_background": "light"
     },
     "output_type": "display_data"
    }
   ],
   "source": [
    "import matplotlib.pyplot as plt\n",
    "import matplotlib.image as img\n",
    "image = img.imread('python_logo.png')\n",
    "plt.imshow(image)"
   ]
  },
  {
   "cell_type": "markdown",
   "id": "72731757",
   "metadata": {},
   "source": [
    "## 42. Draw sin wave using matplotlib"
   ]
  },
  {
   "cell_type": "code",
   "execution_count": null,
   "id": "63e139d6",
   "metadata": {},
   "outputs": [],
   "source": [
    "x = np.arange(0,4*np.pi,0.1)   # start,stop,step\n",
    "y = np.sin(x)\n",
    "plt.plot(x,y)\n",
    "plt.show"
   ]
  },
  {
   "cell_type": "markdown",
   "id": "458371b3",
   "metadata": {},
   "source": [
    "## 43. Draw cos wave using matplotlib"
   ]
  },
  {
   "cell_type": "code",
   "execution_count": 122,
   "id": "02136c46",
   "metadata": {},
   "outputs": [
    {
     "data": {
      "text/plain": [
       "<function matplotlib.pyplot.show(close=None, block=None)>"
      ]
     },
     "execution_count": 122,
     "metadata": {},
     "output_type": "execute_result"
    },
    {
     "data": {
      "image/png": "[encoded data removed]",
      "text/plain": [
       "<Figure size 432x288 with 1 Axes>"
      ]
     },
     "metadata": {
      "needs_background": "light"
     },
     "output_type": "display_data"
    }
   ],
   "source": [
    "x = np.arange(0,4*np.pi,0.1)   # start,stop,step\n",
    "y = np.cos(x)\n",
    "plt.plot(x,y)\n",
    "plt.show"
   ]
  },
  {
   "cell_type": "markdown",
   "id": "1f580563",
   "metadata": {},
   "source": [
    "## 44. Draw step function using matplotlib"
   ]
  },
  {
   "cell_type": "code",
   "execution_count": 117,
   "id": "3b08e23d",
   "metadata": {},
   "outputs": [
    {
     "data": {
      "image/png": "[encoded data removed]",
      "text/plain": [
       "<Figure size 432x288 with 1 Axes>"
      ]
     },
     "metadata": {
      "needs_background": "light"
     },
     "output_type": "display_data"
    }
   ],
   "source": [
    "import matplotlib.pyplot as plt\n",
    "x = [1,2,3,4] \n",
    "y = [0.002871972681775004, 0.00514787917410944, \n",
    "     0.00863476098280219, 0.012003316194034325]\n",
    "plt.step(x, y)\n",
    "plt.show()"
   ]
  },
  {
   "cell_type": "markdown",
   "id": "b425d78d",
   "metadata": {},
   "source": [
    "## 45. Draw fourier series using matplotlib"
   ]
  },
  {
   "cell_type": "code",
   "execution_count": null,
   "id": "91b1b243",
   "metadata": {},
   "outputs": [],
   "source": []
  },
  {
   "cell_type": "markdown",
   "id": "a685f8b7",
   "metadata": {},
   "source": [
    "## 48. Read all the files in a directory and print them."
   ]
  },
  {
   "cell_type": "code",
   "execution_count": 187,
   "id": "8fa5d6f8",
   "metadata": {},
   "outputs": [
    {
     "data": {
      "text/plain": [
       "['.ipynb_checkpoints',\n",
       " '50 problems.ipynb',\n",
       " 'df_csv.csv',\n",
       " 'df_excel.xlsx',\n",
       " 'python_logo.png',\n",
       " 'question12.txt',\n",
       " 'question14.txt',\n",
       " 'question18.py',\n",
       " 'question18.txt',\n",
       " 'question28.json',\n",
       " 'question29_30.txt',\n",
       " 'question32_33.txt',\n",
       " 'question34.txt',\n",
       " 'question6.csv',\n",
       " 'question7.txt',\n",
       " 'question8.txt',\n",
       " 'question9.txt',\n",
       " 'student_marks.csv',\n",
       " '__pycache__']"
      ]
     },
     "execution_count": 187,
     "metadata": {},
     "output_type": "execute_result"
    }
   ],
   "source": [
    "import os\n",
    "os.listdir()"
   ]
  },
  {
   "cell_type": "markdown",
   "id": "65f7c229",
   "metadata": {},
   "source": [
    "## 49. Find out the parent directory of a directory."
   ]
  },
  {
   "cell_type": "code",
   "execution_count": 193,
   "id": "7d0fa435",
   "metadata": {},
   "outputs": [
    {
     "name": "stdout",
     "output_type": "stream",
     "text": [
      "Current Directory C:\\Users\\yasht\\Desktop\\Python Training\\50 problems\n",
      "Parent directory C:\\Users\\yasht\\Desktop\\Python Training\n"
     ]
    }
   ],
   "source": [
    "import os\n",
    "path = os.getcwd()\n",
    "print(\"Current Directory\", path)\n",
    "parent = os.path.dirname(path)\n",
    "print(\"Parent directory\", parent)"
   ]
  },
  {
   "cell_type": "markdown",
   "id": "dbc55499",
   "metadata": {},
   "source": [
    "## 50. Find the factorial of a number."
   ]
  },
  {
   "cell_type": "code",
   "execution_count": 212,
   "id": "0455ff9b",
   "metadata": {},
   "outputs": [
    {
     "name": "stdout",
     "output_type": "stream",
     "text": [
      "Enter number: 7\n",
      "5040\n"
     ]
    }
   ],
   "source": [
    "num = int(input(\"Enter number: \"))\n",
    "fact = 1\n",
    "for i in range(1, num + 1):\n",
    "    fact = fact * i\n",
    "print(fact)\n",
    "# import math\n",
    "# math.factorial(num)"
   ]
  }
 ],
 "metadata": {
  "kernelspec": {
   "display_name": "Python 3 (ipykernel)",
   "language": "python",
   "name": "python3"
  },
  "language_info": {
   "codemirror_mode": {
    "name": "ipython",
    "version": 3
   },
   "file_extension": ".py",
   "mimetype": "text/x-python",
   "name": "python",
   "nbconvert_exporter": "python",
   "pygments_lexer": "ipython3",
   "version": "3.9.7"
  }
 },
 "nbformat": 4,
 "nbformat_minor": 5
}
