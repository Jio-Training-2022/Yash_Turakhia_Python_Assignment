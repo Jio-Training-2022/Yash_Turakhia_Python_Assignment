{
 "cells": [
  {
   "cell_type": "markdown",
   "id": "1c74f569",
   "metadata": {},
   "source": [
    "# Hacker Rank Problem"
   ]
  },
  {
   "cell_type": "markdown",
   "id": "2a6da0ee",
   "metadata": {},
   "source": [
    "## Day-5\n",
    "\n",
    "- https://www.hackerrank.com/challenges/finding-the-percentage/problem?isFullScreen=true - Done\n",
    "- https://www.hackerrank.com/challenges/whats-your-name/problem?isFullScreen=true - Done\n",
    "- https://www.hackerrank.com/challenges/python-lists/problem?isFullScreen=true\n",
    "- https://www.hackerrank.com/challenges/nested-list/problem?isFullScreen=true\n",
    "- https://www.hackerrank.com/challenges/python-power-mod-power/problem?isFullScreen=true - Done"
   ]
  },
  {
   "cell_type": "code",
   "execution_count": 2,
   "id": "5d6df92e",
   "metadata": {},
   "outputs": [
    {
     "name": "stdout",
     "output_type": "stream",
     "text": [
      "2\n",
      "2\n",
      "2\n",
      "2\n",
      "0.00\n"
     ]
    }
   ],
   "source": [
    "#https://www.hackerrank.com/challenges/finding-the-percentage/problem?isFullScreen=true\n",
    "\n",
    "n = int(input())\n",
    "student_marks = {}\n",
    "for _ in range(n):\n",
    "    name, *line = input().split()\n",
    "    scores = list(map(float, line))\n",
    "    student_marks[name] = scores\n",
    "query_name = input()\n",
    "    \n",
    "marks=0\n",
    "    \n",
    "for i in student_marks[query_name]:\n",
    "    marks=marks+i\n",
    "avg=marks/3\n",
    "    \n",
    "print(\"%.2f\"%avg)"
   ]
  },
  {
   "cell_type": "code",
   "execution_count": null,
   "id": "50735aab",
   "metadata": {},
   "outputs": [],
   "source": [
    "#https://www.hackerrank.com/challenges/whats-your-name/problem?isFullScreen=true\n",
    "def print_full_name(first, last):\n",
    "    # Write your code here\n",
    "    #print(\"Hello\",firstlast\"You just delved into python\")\n",
    "    print(f\"Hello {first} {last}! You just delved into python.\")\n",
    "\n",
    "if __name__ == '__main__':"
   ]
  },
  {
   "cell_type": "code",
   "execution_count": null,
   "id": "f08d74df",
   "metadata": {},
   "outputs": [],
   "source": [
    "# https://www.hackerrank.com/challenges/python-lists/problem?isFullScreen=true"
   ]
  },
  {
   "cell_type": "code",
   "execution_count": null,
   "id": "2ba4181b",
   "metadata": {},
   "outputs": [],
   "source": [
    "# https://www.hackerrank.com/challenges/nested-list/problem?isFullScreen=true"
   ]
  },
  {
   "cell_type": "code",
   "execution_count": null,
   "id": "23737b8f",
   "metadata": {},
   "outputs": [],
   "source": [
    "# https://www.hackerrank.com/challenges/python-power-mod-power/problem?isFullScreen=true\n",
    "import math\n",
    "\n",
    "a=int(input())\n",
    "b=int(input())\n",
    "m=int(input())\n",
    "\n",
    "print(pow(a,b))\n",
    "print(pow(a,b,m))"
   ]
  },
  {
   "cell_type": "markdown",
   "id": "13042eae",
   "metadata": {},
   "source": [
    "## Day -6\n",
    "- https://www.hackerrank.com/challenges/swap-case/problem?isFullScreen=true - Done\n",
    "- https://www.hackerrank.com/challenges/python-string-split-and-join/problem?isFullScreen=true - Done\n",
    "- https://www.hackerrank.com/challenges/python-mutations/problem?isFullScreen=true - Done\n",
    "- https://www.hackerrank.com/challenges/find-a-string/problem?isFullScreen=true - Done\n",
    "- https://www.hackerrank.com/challenges/string-validators/problem?isFullScreen=true\n",
    "- https://www.hackerrank.com/challenges/text-alignment/problem?isFullScreen=true"
   ]
  },
  {
   "cell_type": "code",
   "execution_count": 50,
   "id": "cb580dea",
   "metadata": {},
   "outputs": [],
   "source": [
    "#https://www.hackerrank.com/challenges/swap-case/problem?isFullScreen=true\n",
    "#s = 'YaSh TuRaKhIa'\n",
    "\n",
    "s = 'HackerRank.com presents \"Pythonist 2\".'\n",
    "def swap_case(s):\n",
    "    new_string=''\n",
    "    for i in s:\n",
    "        if (i.isupper())==True:\n",
    "            new_string += i.lower()\n",
    "        elif (i.islower())==True:\n",
    "            new_string += i.upper()\n",
    "        else:\n",
    "            new_string+=i\n",
    "    return new_string\n",
    "if __name__ == '__main__':"
   ]
  },
  {
   "cell_type": "code",
   "execution_count": 57,
   "id": "afe95726",
   "metadata": {},
   "outputs": [
    {
     "name": "stdout",
     "output_type": "stream",
     "text": [
      "hACKERrANK.COM PRESENTS \"pYTHONIST 2\".this-is-a-stringthis-is-a-stringthis-is-a-string\n"
     ]
    }
   ],
   "source": [
    "# https://www.hackerrank.com/challenges/python-string-split-and-join/problem?isFullScreen=true\n",
    "line = 'this is a string'\n",
    "def split_and_join(line):\n",
    "    new_string=''\n",
    "    for i in line:\n",
    "        if i.isspace()==True:\n",
    "            new_string +='-'\n",
    "        else:\n",
    "            new_string += i\n",
    "    return new_string\n",
    "\n",
    "if __name__ == '__main__':\n",
    "    line = input()\n",
    "    result = split_and_join(line)\n",
    "    print(result)"
   ]
  },
  {
   "cell_type": "code",
   "execution_count": 72,
   "id": "368b4a13",
   "metadata": {},
   "outputs": [],
   "source": [
    "# https://www.hackerrank.com/challenges/python-mutations/problem?isFullScreen=true\n",
    "def mutate_string(string, position, character):\n",
    "    new_string=''\n",
    "    new_list = list(string)\n",
    "    new_list[position] = character\n",
    "    for i in new_list:\n",
    "        new_string+=i\n",
    "    return new_string\n",
    "\n",
    "mutate_string('abracadabra', 5, 'k')"
   ]
  },
  {
   "cell_type": "code",
   "execution_count": 9,
   "id": "89f77d08",
   "metadata": {},
   "outputs": [
    {
     "data": {
      "text/plain": [
       "2"
      ]
     },
     "execution_count": 9,
     "metadata": {},
     "output_type": "execute_result"
    }
   ],
   "source": [
    "# https://www.hackerrank.com/challenges/find-a-string/problem?isFullScreen=true\n",
    "\n",
    "def count_substring(string, sub_string):\n",
    "    count=0\n",
    "    for i in range(0,len(string)):\n",
    "        for j in range(0,len(sub_string)):\n",
    "            if string[i+j]==sub_string[j] and j==(len(sub_string)-1):\n",
    "                count+=1  \n",
    "            if string[i+j]!=sub_string[j]:\n",
    "                break  \n",
    "        if i==len(string)-len(sub_string):\n",
    "            break            \n",
    "    return count\n",
    "\n",
    "count_substring('ABCDCDC', 'CDC')"
   ]
  },
  {
   "cell_type": "code",
   "execution_count": 14,
   "id": "201752cb",
   "metadata": {},
   "outputs": [
    {
     "ename": "SyntaxError",
     "evalue": "invalid syntax (Temp/ipykernel_23636/3103108468.py, line 6)",
     "output_type": "error",
     "traceback": [
      "\u001b[1;36m  File \u001b[1;32m\"C:\\Users\\yasht\\AppData\\Local\\Temp/ipykernel_23636/3103108468.py\"\u001b[1;36m, line \u001b[1;32m6\u001b[0m\n\u001b[1;33m    print(s.islower())\u001b[0m\n\u001b[1;37m    ^\u001b[0m\n\u001b[1;31mSyntaxError\u001b[0m\u001b[1;31m:\u001b[0m invalid syntax\n"
     ]
    }
   ],
   "source": [
    "# https://www.hackerrank.com/challenges/string-validators/problem?isFullScreen=true\n",
    "s = 'qA2'\n",
    "print(s.isalnum())\n",
    "print(s.isalpha())\n",
    "print(s.isdigit()\n",
    "print(s.islower())\n",
    "print(s.isupper())\n",
    "      \n",
    "'''\n",
    "Best Solution\n",
    "print(any(map(str.isalnum, s)))\n",
    "print(any(map(str.isalpha, s)))\n",
    "print(any(map(str.isdigit, s)))\n",
    "print(any(map(str.islower, s)))\n",
    "print(any(map(str.isupper, s)))\n",
    "'''"
   ]
  },
  {
   "cell_type": "code",
   "execution_count": null,
   "id": "0f1ba816",
   "metadata": {},
   "outputs": [],
   "source": []
  },
  {
   "cell_type": "code",
   "execution_count": 5,
   "id": "95a7b253",
   "metadata": {},
   "outputs": [
    {
     "ename": "SyntaxError",
     "evalue": "EOL while scanning string literal (Temp/ipykernel_23636/2403160772.py, line 1)",
     "output_type": "error",
     "traceback": [
      "\u001b[1;36m  File \u001b[1;32m\"C:\\Users\\yasht\\AppData\\Local\\Temp/ipykernel_23636/2403160772.py\"\u001b[1;36m, line \u001b[1;32m1\u001b[0m\n\u001b[1;33m    print('    H\u001b[0m\n\u001b[1;37m                    ^\u001b[0m\n\u001b[1;31mSyntaxError\u001b[0m\u001b[1;31m:\u001b[0m EOL while scanning string literal\n"
     ]
    }
   ],
   "source": []
  },
  {
   "cell_type": "markdown",
   "id": "0c34b50b",
   "metadata": {},
   "source": [
    "## Day - 7\n",
    "\n",
    "- https://www.hackerrank.com/challenges/class-1-dealing-with-complex-numbers/problem?isFullScreen=true\n",
    "- https://www.hackerrank.com/challenges/class-2-find-the-torsional-angle/problem?isFullScreen=true\n"
   ]
  },
  {
   "cell_type": "code",
   "execution_count": null,
   "id": "11384190",
   "metadata": {},
   "outputs": [],
   "source": []
  },
  {
   "cell_type": "code",
   "execution_count": null,
   "id": "05003d81",
   "metadata": {},
   "outputs": [],
   "source": []
  },
  {
   "cell_type": "code",
   "execution_count": null,
   "id": "26c4c350",
   "metadata": {},
   "outputs": [],
   "source": []
  },
  {
   "cell_type": "markdown",
   "id": "a551162b",
   "metadata": {},
   "source": [
    "## Day - 8\n",
    "- https://www.hackerrank.com/challenges/calendar-module/problem?isFullScreen=true - Done\n",
    "- https://www.hackerrank.com/challenges/python-time-delta/problem?isFullScreen=true\n",
    "- https://www.hackerrank.com/challenges/any-or-all/problem?isFullScreen=true"
   ]
  },
  {
   "cell_type": "code",
   "execution_count": 58,
   "id": "93875da2",
   "metadata": {},
   "outputs": [
    {
     "name": "stdout",
     "output_type": "stream",
     "text": [
      "MM DD YYYY09 23 2022\n",
      "FRIDAY\n"
     ]
    }
   ],
   "source": [
    "# https://www.hackerrank.com/challenges/calendar-module/problem?isFullScreen=true\n",
    "a = input(\"MM DD YYYY\")\n",
    "a = a.strip().split()\n",
    "m = int(a[0])\n",
    "d = int(a[1])\n",
    "y = int(a[2])\n",
    "\n",
    "import calendar\n",
    "print(calendar.day_name[calendar.weekday(y, m, d)].upper())"
   ]
  },
  {
   "cell_type": "code",
   "execution_count": 75,
   "id": "9bcc86d4",
   "metadata": {},
   "outputs": [
    {
     "name": "stdout",
     "output_type": "stream",
     "text": [
      "3\n",
      "1\n",
      "5\n",
      "6\n"
     ]
    }
   ],
   "source": [
    "#https://www.hackerrank.com/challenges/calendar-module/problem?isFullScreen=true\n",
    "N=int(input())\n",
    "list1 = []\n",
    "for i in range(1,N+1):\n",
    "    list1.append(int(input()))\n"
   ]
  },
  {
   "cell_type": "code",
   "execution_count": 83,
   "id": "e1f369d8",
   "metadata": {},
   "outputs": [
    {
     "ename": "TypeError",
     "evalue": "'>' not supported between instances of 'list' and 'int'",
     "output_type": "error",
     "traceback": [
      "\u001b[1;31m---------------------------------------------------------------------------\u001b[0m",
      "\u001b[1;31mTypeError\u001b[0m                                 Traceback (most recent call last)",
      "\u001b[1;32m~\\AppData\\Local\\Temp/ipykernel_2904/2201889170.py\u001b[0m in \u001b[0;36m<module>\u001b[1;34m\u001b[0m\n\u001b[1;32m----> 1\u001b[1;33m \u001b[1;32mif\u001b[0m \u001b[0mlist1\u001b[0m \u001b[1;33m>\u001b[0m \u001b[1;36m0\u001b[0m\u001b[1;33m:\u001b[0m\u001b[1;33m\u001b[0m\u001b[1;33m\u001b[0m\u001b[0m\n\u001b[0m\u001b[0;32m      2\u001b[0m     \u001b[0mprint\u001b[0m\u001b[1;33m(\u001b[0m\u001b[1;32mTrue\u001b[0m\u001b[1;33m)\u001b[0m\u001b[1;33m\u001b[0m\u001b[1;33m\u001b[0m\u001b[0m\n",
      "\u001b[1;31mTypeError\u001b[0m: '>' not supported between instances of 'list' and 'int'"
     ]
    }
   ],
   "source": [
    "if list1 > 0:\n",
    "    print(True)"
   ]
  },
  {
   "cell_type": "code",
   "execution_count": 69,
   "id": "7c4736c8",
   "metadata": {},
   "outputs": [],
   "source": [
    "list1.append(3)"
   ]
  },
  {
   "cell_type": "code",
   "execution_count": 70,
   "id": "e54b9b41",
   "metadata": {},
   "outputs": [
    {
     "data": {
      "text/plain": [
       "[1, 2, 3, 3]"
      ]
     },
     "execution_count": 70,
     "metadata": {},
     "output_type": "execute_result"
    }
   ],
   "source": []
  },
  {
   "cell_type": "code",
   "execution_count": null,
   "id": "04339105",
   "metadata": {},
   "outputs": [],
   "source": []
  }
 ],
 "metadata": {
  "kernelspec": {
   "display_name": "Python 3 (ipykernel)",
   "language": "python",
   "name": "python3"
  },
  "language_info": {
   "codemirror_mode": {
    "name": "ipython",
    "version": 3
   },
   "file_extension": ".py",
   "mimetype": "text/x-python",
   "name": "python",
   "nbconvert_exporter": "python",
   "pygments_lexer": "ipython3",
   "version": "3.9.7"
  }
 },
 "nbformat": 4,
 "nbformat_minor": 5
}
